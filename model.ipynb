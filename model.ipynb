{
 "cells": [
  {
   "cell_type": "code",
   "execution_count": 1,
   "id": "12c7de5c",
   "metadata": {},
   "outputs": [],
   "source": [
    "import pandas as pd\n",
    "from sklearn.model_selection import train_test_split\n",
    "from tensorflow.keras.preprocessing.text import Tokenizer\n",
    "from tensorflow.keras.preprocessing.sequence import pad_sequences\n",
    "from tensorflow.keras.models import Sequential\n",
    "from tensorflow.keras.layers import Embedding, LSTM, Dense, Dropout"
   ]
  },
  {
   "cell_type": "code",
   "execution_count": 2,
   "id": "257a264d",
   "metadata": {},
   "outputs": [],
   "source": [
    "df = pd.read_csv(\"combined_data.csv\")"
   ]
  },
  {
   "cell_type": "code",
   "execution_count": 3,
   "id": "5bc4812f",
   "metadata": {},
   "outputs": [],
   "source": [
    "x_train, x_test, y_train, y_test = train_test_split(df['text'], df['label'], test_size=0.2, random_state=42)"
   ]
  },
  {
   "cell_type": "code",
   "execution_count": 4,
   "id": "426f79b9",
   "metadata": {},
   "outputs": [],
   "source": [
    "tokenizer = Tokenizer(num_words=10000, oov_token='<OOV')\n",
    "tokenizer.fit_on_texts(x_train)"
   ]
  },
  {
   "cell_type": "code",
   "execution_count": 5,
   "id": "041d28ad",
   "metadata": {},
   "outputs": [],
   "source": [
    "x_train_seq = tokenizer.texts_to_sequences(x_train)\n",
    "x_test_seq = tokenizer.texts_to_sequences(x_test)"
   ]
  },
  {
   "cell_type": "code",
   "execution_count": 6,
   "id": "1a31e7ec",
   "metadata": {},
   "outputs": [],
   "source": [
    "max_len = 20\n",
    "x_train_pad = pad_sequences(x_train_seq, maxlen=max_len, padding='post')\n",
    "x_test_pad = pad_sequences(x_test_seq, maxlen=max_len, padding='post')"
   ]
  },
  {
   "cell_type": "code",
   "execution_count": 7,
   "id": "f4bcb821",
   "metadata": {},
   "outputs": [
    {
     "name": "stderr",
     "output_type": "stream",
     "text": [
      "C:\\Users\\Tanuj Rajput\\AppData\\Roaming\\Python\\Python312\\site-packages\\keras\\src\\layers\\core\\embedding.py:90: UserWarning: Argument `input_length` is deprecated. Just remove it.\n",
      "  warnings.warn(\n"
     ]
    }
   ],
   "source": [
    "model = Sequential([\n",
    "    Embedding(input_dim=10000, output_dim=64, input_length=max_len),\n",
    "    LSTM(64),\n",
    "    Dropout(0.5),\n",
    "    Dense(1, activation='sigmoid')\n",
    "])"
   ]
  },
  {
   "cell_type": "code",
   "execution_count": 8,
   "id": "e3aa32c8",
   "metadata": {},
   "outputs": [],
   "source": [
    "model.compile(optimizer='adam', loss='binary_crossentropy', metrics=['accuracy'])"
   ]
  },
  {
   "cell_type": "code",
   "execution_count": 9,
   "id": "ce5cc3bb",
   "metadata": {},
   "outputs": [
    {
     "name": "stdout",
     "output_type": "stream",
     "text": [
      "Epoch 1/5\n",
      "\u001b[1m16690/16690\u001b[0m \u001b[32m━━━━━━━━━━━━━━━━━━━━\u001b[0m\u001b[37m\u001b[0m \u001b[1m190s\u001b[0m 11ms/step - accuracy: 0.9241 - loss: 0.1877 - val_accuracy: 0.9645 - val_loss: 0.0975\n",
      "Epoch 2/5\n",
      "\u001b[1m16690/16690\u001b[0m \u001b[32m━━━━━━━━━━━━━━━━━━━━\u001b[0m\u001b[37m\u001b[0m \u001b[1m196s\u001b[0m 12ms/step - accuracy: 0.9739 - loss: 0.0715 - val_accuracy: 0.9679 - val_loss: 0.0877\n",
      "Epoch 3/5\n",
      "\u001b[1m16690/16690\u001b[0m \u001b[32m━━━━━━━━━━━━━━━━━━━━\u001b[0m\u001b[37m\u001b[0m \u001b[1m212s\u001b[0m 13ms/step - accuracy: 0.9830 - loss: 0.0473 - val_accuracy: 0.9679 - val_loss: 0.0936\n",
      "Epoch 4/5\n",
      "\u001b[1m16690/16690\u001b[0m \u001b[32m━━━━━━━━━━━━━━━━━━━━\u001b[0m\u001b[37m\u001b[0m \u001b[1m190s\u001b[0m 11ms/step - accuracy: 0.9890 - loss: 0.0322 - val_accuracy: 0.9668 - val_loss: 0.1071\n",
      "Epoch 5/5\n",
      "\u001b[1m16690/16690\u001b[0m \u001b[32m━━━━━━━━━━━━━━━━━━━━\u001b[0m\u001b[37m\u001b[0m \u001b[1m144s\u001b[0m 9ms/step - accuracy: 0.9924 - loss: 0.0223 - val_accuracy: 0.9656 - val_loss: 0.1323\n"
     ]
    },
    {
     "data": {
      "text/plain": [
       "<keras.src.callbacks.history.History at 0x154bcd626c0>"
      ]
     },
     "execution_count": 9,
     "metadata": {},
     "output_type": "execute_result"
    }
   ],
   "source": [
    "model.fit(x_train_pad, y_train, epochs=5, batch_size=4, validation_data=(x_test_pad, y_test))"
   ]
  },
  {
   "cell_type": "code",
   "execution_count": 10,
   "id": "60e0aae8",
   "metadata": {},
   "outputs": [
    {
     "name": "stdout",
     "output_type": "stream",
     "text": [
      "\u001b[1m522/522\u001b[0m \u001b[32m━━━━━━━━━━━━━━━━━━━━\u001b[0m\u001b[37m\u001b[0m \u001b[1m2s\u001b[0m 4ms/step - accuracy: 0.9663 - loss: 0.1248\n",
      "Test Accuracy: 0.9656\n"
     ]
    }
   ],
   "source": [
    "loss, accuracy = model.evaluate(x_test_pad, y_test)\n",
    "print(f\"Test Accuracy: {accuracy:.4f}\")"
   ]
  },
  {
   "cell_type": "code",
   "execution_count": 11,
   "id": "ef602d53",
   "metadata": {},
   "outputs": [],
   "source": [
    "# def predict(text):\n",
    "#     seq = tokenizer.texts_to_sequences([text])\n",
    "#     padded = pad_sequences(seq, maxlen=max_len, padding='post')\n",
    "#     pred = model.predict(padded)[0][0]\n",
    "#     return \"Spam\" if pred > 0.5 else \"Not Spam\""
   ]
  },
  {
   "cell_type": "code",
   "execution_count": 12,
   "id": "7e07bada",
   "metadata": {},
   "outputs": [],
   "source": [
    "# # Example 1: Obvious spam\n",
    "# print(\"Test 1:\", predict(\"Congratulations! You've won a free iPhone. Click here to claim now.\"))\n",
    "\n",
    "# # Example 2: Normal message\n",
    "# print(\"Test 2:\", predict(\"Hey, can we reschedule our meeting for tomorrow?\"))\n",
    "\n",
    "# # Example 3: Spam with urgency\n",
    "# print(\"Test 3:\", predict(\"Urgent! Your bank account has been compromised. Login now.\"))\n",
    "\n",
    "# # Example 4: Friendly message\n",
    "# print(\"Test 4:\", predict(\"Let's grab lunch this afternoon.\"))\n",
    "\n",
    "# # Example 5: Contest/Prize offer\n",
    "# print(\"Test 5:\", predict(\"Win ₹1,00,000 cash prize! Enter the contest today.\"))"
   ]
  },
  {
   "cell_type": "code",
   "execution_count": 13,
   "id": "d0d595ad",
   "metadata": {},
   "outputs": [],
   "source": [
    "# import gradio as gr\n",
    "\n",
    "# interface = gr.Interface(\n",
    "#     fn=predict,\n",
    "#     inputs=gr.Textbox(lines=4, placeholder=\"Enter a message here...\"),\n",
    "#     outputs=\"text\",\n",
    "#     title=\"Spam Message Classifier\",\n",
    "#     description=\"Enter a message and the model will predict whether it's Spam or Not Spam.\"\n",
    "# )\n",
    "\n",
    "# interface.launch()"
   ]
  },
  {
   "cell_type": "code",
   "execution_count": 14,
   "id": "97b4eb7d",
   "metadata": {},
   "outputs": [
    {
     "name": "stderr",
     "output_type": "stream",
     "text": [
      "WARNING:absl:You are saving your model as an HDF5 file via `model.save()` or `keras.saving.save_model(model)`. This file format is considered legacy. We recommend using instead the native Keras format, e.g. `model.save('my_model.keras')` or `keras.saving.save_model(model, 'my_model.keras')`. \n"
     ]
    }
   ],
   "source": [
    "model.save(\"Spam-Email-Classifier.h5\")"
   ]
  },
  {
   "cell_type": "code",
   "execution_count": 15,
   "id": "b6d2ef50",
   "metadata": {},
   "outputs": [],
   "source": [
    "import pickle"
   ]
  },
  {
   "cell_type": "code",
   "execution_count": 17,
   "id": "fbc3d931",
   "metadata": {},
   "outputs": [],
   "source": [
    "with open(\"tokenizer.pkl\", \"wb\") as f:\n",
    "    pickle.dump(tokenizer, f)"
   ]
  },
  {
   "cell_type": "code",
   "execution_count": 18,
   "id": "49809577",
   "metadata": {},
   "outputs": [],
   "source": [
    "from tensorflow.keras.models import load_model"
   ]
  },
  {
   "cell_type": "code",
   "execution_count": 19,
   "id": "077752d5",
   "metadata": {},
   "outputs": [
    {
     "name": "stderr",
     "output_type": "stream",
     "text": [
      "WARNING:absl:Compiled the loaded model, but the compiled metrics have yet to be built. `model.compile_metrics` will be empty until you train or evaluate the model.\n"
     ]
    }
   ],
   "source": [
    "model = load_model(\"Spam-Email-Classifier.h5\")"
   ]
  },
  {
   "cell_type": "code",
   "execution_count": 20,
   "id": "7089c584",
   "metadata": {},
   "outputs": [],
   "source": [
    "with open(\"tokenizer.pkl\", \"rb\") as f:\n",
    "    tokenizer = pickle.load(f)"
   ]
  },
  {
   "cell_type": "code",
   "execution_count": null,
   "id": "a03fe591",
   "metadata": {},
   "outputs": [],
   "source": []
  }
 ],
 "metadata": {
  "kernelspec": {
   "display_name": "Python 3",
   "language": "python",
   "name": "python3"
  },
  "language_info": {
   "codemirror_mode": {
    "name": "ipython",
    "version": 3
   },
   "file_extension": ".py",
   "mimetype": "text/x-python",
   "name": "python",
   "nbconvert_exporter": "python",
   "pygments_lexer": "ipython3",
   "version": "3.12.4"
  }
 },
 "nbformat": 4,
 "nbformat_minor": 5
}
